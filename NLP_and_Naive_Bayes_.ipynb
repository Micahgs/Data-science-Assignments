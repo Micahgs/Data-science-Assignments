{
  "nbformat": 4,
  "nbformat_minor": 0,
  "metadata": {
    "colab": {
      "provenance": [],
      "authorship_tag": "ABX9TyOni/x8ZCvJC3MJrF96J3co",
      "include_colab_link": true
    },
    "kernelspec": {
      "name": "python3",
      "display_name": "Python 3"
    },
    "language_info": {
      "name": "python"
    }
  },
  "cells": [
    {
      "cell_type": "markdown",
      "metadata": {
        "id": "view-in-github",
        "colab_type": "text"
      },
      "source": [
        "<a href=\"https://colab.research.google.com/github/Micahgs/Data-science-Assignments/blob/main/NLP_and_Naive_Bayes_.ipynb\" target=\"_parent\"><img src=\"https://colab.research.google.com/assets/colab-badge.svg\" alt=\"Open In Colab\"/></a>"
      ]
    },
    {
      "cell_type": "code",
      "source": [
        "import pandas as pd\n",
        "import numpy as np\n",
        "import matplotlib.pyplot as plt\n",
        "import seaborn as sns\n",
        "import re\n",
        "import string\n",
        "from bs4 import BeautifulSoup\n",
        "import nltk\n",
        "from nltk.corpus import stopwords\n",
        "from nltk.tokenize import word_tokenize\n",
        "from nltk.stem import WordNetLemmatizer\n",
        "from nltk.sentiment import SentimentIntensityAnalyzer\n",
        "from sklearn.feature_extraction.text import TfidfVectorizer\n",
        "from sklearn.naive_bayes import MultinomialNB\n",
        "from sklearn.pipeline import Pipeline\n",
        "from sklearn.model_selection import train_test_split\n",
        "from sklearn.metrics import classification_report, confusion_matrix, accuracy_score\n",
        "from textblob import TextBlob\n",
        "from nltk.stem import PorterStemmer\n",
        "\n",
        "nltk.download('punkt')\n",
        "nltk.download('stopwords')\n",
        "nltk.download('wordnet')\n",
        "nltk.download('vader_lexicon')\n",
        "nltk.download('omw-1.4')"
      ],
      "metadata": {
        "colab": {
          "base_uri": "https://localhost:8080/"
        },
        "id": "lNyqQ28Uu0Bc",
        "outputId": "12410c5f-1f65-4bf7-c2f2-2f9d3d293c65"
      },
      "execution_count": 56,
      "outputs": [
        {
          "output_type": "stream",
          "name": "stderr",
          "text": [
            "[nltk_data] Downloading package punkt to /root/nltk_data...\n",
            "[nltk_data]   Package punkt is already up-to-date!\n",
            "[nltk_data] Downloading package stopwords to /root/nltk_data...\n",
            "[nltk_data]   Package stopwords is already up-to-date!\n",
            "[nltk_data] Downloading package wordnet to /root/nltk_data...\n",
            "[nltk_data]   Package wordnet is already up-to-date!\n",
            "[nltk_data] Downloading package vader_lexicon to /root/nltk_data...\n",
            "[nltk_data]   Package vader_lexicon is already up-to-date!\n",
            "[nltk_data] Downloading package omw-1.4 to /root/nltk_data...\n",
            "[nltk_data]   Package omw-1.4 is already up-to-date!\n"
          ]
        },
        {
          "output_type": "execute_result",
          "data": {
            "text/plain": [
              "True"
            ]
          },
          "metadata": {},
          "execution_count": 56
        }
      ]
    },
    {
      "cell_type": "code",
      "source": [
        "# Load the dataset\n",
        "df = pd.read_csv(\"https://raw.githubusercontent.com/Micahgs/DATA-science-asiignment-datasets/refs/heads/main/blogs.csv\")\n",
        "print(\"Initial shape:\", df.shape)\n",
        "print(\"\\nFirst few rows:\")\n",
        "print(df.head(7))\n"
      ],
      "metadata": {
        "colab": {
          "base_uri": "https://localhost:8080/"
        },
        "id": "HFeJJcbRu37K",
        "outputId": "6a8c2b7e-7b4c-45f5-d74a-54725ff1320a"
      },
      "execution_count": 57,
      "outputs": [
        {
          "output_type": "stream",
          "name": "stdout",
          "text": [
            "Initial shape: (2000, 2)\n",
            "\n",
            "First few rows:\n",
            "                                                Data       Labels\n",
            "0  Path: cantaloupe.srv.cs.cmu.edu!magnesium.club...  alt.atheism\n",
            "1  Newsgroups: alt.atheism\\nPath: cantaloupe.srv....  alt.atheism\n",
            "2  Path: cantaloupe.srv.cs.cmu.edu!das-news.harva...  alt.atheism\n",
            "3  Path: cantaloupe.srv.cs.cmu.edu!magnesium.club...  alt.atheism\n",
            "4  Xref: cantaloupe.srv.cs.cmu.edu alt.atheism:53...  alt.atheism\n",
            "5  Xref: cantaloupe.srv.cs.cmu.edu talk.abortion:...  alt.atheism\n",
            "6  Newsgroups: alt.atheism\\nPath: cantaloupe.srv....  alt.atheism\n"
          ]
        }
      ]
    },
    {
      "cell_type": "code",
      "source": [
        "# Check basic info\n",
        "print(\"\\nDataset info:\")\n",
        "print(df.info())\n"
      ],
      "metadata": {
        "colab": {
          "base_uri": "https://localhost:8080/"
        },
        "id": "5bps2PEdu7zC",
        "outputId": "19be69c1-324f-4028-c07b-1a698ef57c97"
      },
      "execution_count": 58,
      "outputs": [
        {
          "output_type": "stream",
          "name": "stdout",
          "text": [
            "\n",
            "Dataset info:\n",
            "<class 'pandas.core.frame.DataFrame'>\n",
            "RangeIndex: 2000 entries, 0 to 1999\n",
            "Data columns (total 2 columns):\n",
            " #   Column  Non-Null Count  Dtype \n",
            "---  ------  --------------  ----- \n",
            " 0   Data    2000 non-null   object\n",
            " 1   Labels  2000 non-null   object\n",
            "dtypes: object(2)\n",
            "memory usage: 31.4+ KB\n",
            "None\n"
          ]
        }
      ]
    },
    {
      "cell_type": "code",
      "source": [
        "# Check for missing values\n",
        "print(\"\\nMissing values:\")\n",
        "print(df.isnull().sum())"
      ],
      "metadata": {
        "colab": {
          "base_uri": "https://localhost:8080/"
        },
        "id": "9huuwATUu_7m",
        "outputId": "0bf850d7-589c-4184-d616-57acfc0be658"
      },
      "execution_count": 59,
      "outputs": [
        {
          "output_type": "stream",
          "name": "stdout",
          "text": [
            "\n",
            "Missing values:\n",
            "Data      0\n",
            "Labels    0\n",
            "dtype: int64\n"
          ]
        }
      ]
    },
    {
      "cell_type": "code",
      "source": [
        "# Check class distribution\n",
        "print(\"\\nCategory distribution:\")\n",
        "print(df['Labels'].value_counts())"
      ],
      "metadata": {
        "colab": {
          "base_uri": "https://localhost:8080/"
        },
        "id": "gEvW5LowvBtl",
        "outputId": "29ca0758-2961-481e-c912-cf1ed8539ec7"
      },
      "execution_count": 60,
      "outputs": [
        {
          "output_type": "stream",
          "name": "stdout",
          "text": [
            "\n",
            "Category distribution:\n",
            "Labels\n",
            "alt.atheism                 100\n",
            "comp.graphics               100\n",
            "comp.os.ms-windows.misc     100\n",
            "comp.sys.ibm.pc.hardware    100\n",
            "comp.sys.mac.hardware       100\n",
            "comp.windows.x              100\n",
            "misc.forsale                100\n",
            "rec.autos                   100\n",
            "rec.motorcycles             100\n",
            "rec.sport.baseball          100\n",
            "rec.sport.hockey            100\n",
            "sci.crypt                   100\n",
            "sci.electronics             100\n",
            "sci.med                     100\n",
            "sci.space                   100\n",
            "soc.religion.christian      100\n",
            "talk.politics.guns          100\n",
            "talk.politics.mideast       100\n",
            "talk.politics.misc          100\n",
            "talk.religion.misc          100\n",
            "Name: count, dtype: int64\n"
          ]
        }
      ]
    },
    {
      "cell_type": "markdown",
      "source": [
        "# **Text Preprocessing**"
      ],
      "metadata": {
        "id": "pzqFfJGivxV1"
      }
    },
    {
      "cell_type": "code",
      "source": [
        "#Text cleaning function\n",
        "def clean_text(text):\n",
        "\n",
        "    text = re.sub(r'^(Path|Newsgroups|Xref):.*\\n?', '', text, flags=re.MULTILINE)\n",
        "\n",
        "    # Lowercase\n",
        "    text = text.lower()\n",
        "\n",
        "    # Remove punctuation\n",
        "    text = text.translate(str.maketrans('', '', string.punctuation))\n",
        "\n",
        "    # Remove numbers\n",
        "    text = re.sub(r'\\d+', '', text)\n",
        "\n",
        "    # Tokenize by splitting\n",
        "    tokens = text.split()\n",
        "\n",
        "    # Remove stopwords\n",
        "    stop_words = set(stopwords.words('english'))\n",
        "    tokens = [w for w in tokens if w not in stop_words]\n",
        "\n",
        "    #Stemming\n",
        "    ps = PorterStemmer()\n",
        "    tokens = [ps.stem(w) for w in tokens]\n",
        "\n",
        "    return \" \".join(tokens)\n",
        "\n",
        "# Apply cleaning\n",
        "df['clean_text'] = df['Data'].apply(clean_text)\n",
        "\n",
        "# 2. TF-IDF vectorization\n",
        "tfidf = TfidfVectorizer(max_features=5000, ngram_range=(1,2))  # unigrams + bigrams\n",
        "X = tfidf.fit_transform(df['clean_text'])\n",
        "y = df['Labels']\n",
        "\n",
        "print(\"TF-IDF shape:\", X.shape)"
      ],
      "metadata": {
        "colab": {
          "base_uri": "https://localhost:8080/"
        },
        "id": "06FO-v_Cv0KC",
        "outputId": "4527f90a-5791-4643-f65d-46746512ff90"
      },
      "execution_count": 61,
      "outputs": [
        {
          "output_type": "stream",
          "name": "stdout",
          "text": [
            "TF-IDF shape: (2000, 5000)\n"
          ]
        }
      ]
    },
    {
      "cell_type": "markdown",
      "source": [
        "# **2. Naive Bayes Model for Text Classification**"
      ],
      "metadata": {
        "id": "eR0wDzWGi9tC"
      }
    },
    {
      "cell_type": "code",
      "source": [
        "# Split the data\n",
        "X_train, X_test, y_train, y_test = train_test_split(\n",
        "    X, y, test_size=0.2, random_state=42, stratify=y\n",
        ")"
      ],
      "metadata": {
        "id": "6H2ohKeeizmG"
      },
      "execution_count": 62,
      "outputs": []
    },
    {
      "cell_type": "code",
      "source": [
        "# Train Naive Bayes\n",
        "nb_model = MultinomialNB()\n",
        "nb_model.fit(X_train, y_train)\n",
        "\n",
        "# Predictions\n",
        "y_pred = nb_model.predict(X_test)\n",
        "\n",
        "# Evaluation\n",
        "print(\"Accuracy:\", accuracy_score(y_test, y_pred))\n",
        "print(\"\\nClassification Report:\\n\", classification_report(y_test, y_pred))"
      ],
      "metadata": {
        "colab": {
          "base_uri": "https://localhost:8080/"
        },
        "id": "TcwnrXy_i12W",
        "outputId": "5fc83eed-a142-4a4c-b4ce-aa48e0ef0f96"
      },
      "execution_count": 63,
      "outputs": [
        {
          "output_type": "stream",
          "name": "stdout",
          "text": [
            "Accuracy: 0.7475\n",
            "\n",
            "Classification Report:\n",
            "                           precision    recall  f1-score   support\n",
            "\n",
            "             alt.atheism       0.74      0.70      0.72        20\n",
            "           comp.graphics       0.74      0.85      0.79        20\n",
            " comp.os.ms-windows.misc       0.78      0.70      0.74        20\n",
            "comp.sys.ibm.pc.hardware       0.41      0.65      0.50        20\n",
            "   comp.sys.mac.hardware       0.71      0.60      0.65        20\n",
            "          comp.windows.x       0.71      0.75      0.73        20\n",
            "            misc.forsale       0.83      0.75      0.79        20\n",
            "               rec.autos       0.82      0.70      0.76        20\n",
            "         rec.motorcycles       0.81      0.85      0.83        20\n",
            "      rec.sport.baseball       0.95      0.90      0.92        20\n",
            "        rec.sport.hockey       0.91      1.00      0.95        20\n",
            "               sci.crypt       0.90      0.95      0.93        20\n",
            "         sci.electronics       0.74      0.70      0.72        20\n",
            "                 sci.med       0.93      0.65      0.76        20\n",
            "               sci.space       0.77      0.85      0.81        20\n",
            "  soc.religion.christian       0.71      1.00      0.83        20\n",
            "      talk.politics.guns       0.62      0.75      0.68        20\n",
            "   talk.politics.mideast       0.83      0.75      0.79        20\n",
            "      talk.politics.misc       0.73      0.40      0.52        20\n",
            "      talk.religion.misc       0.56      0.45      0.50        20\n",
            "\n",
            "                accuracy                           0.75       400\n",
            "               macro avg       0.76      0.75      0.75       400\n",
            "            weighted avg       0.76      0.75      0.75       400\n",
            "\n"
          ]
        }
      ]
    },
    {
      "cell_type": "markdown",
      "source": [
        "# **3. Sentiment Analysis**"
      ],
      "metadata": {
        "id": "yoCnBhNrjWPN"
      }
    },
    {
      "cell_type": "code",
      "source": [
        "import pandas as pd\n",
        "from nltk.sentiment.vader import SentimentIntensityAnalyzer\n",
        "import nltk\n",
        "nltk.download('vader_lexicon')\n",
        "\n",
        "# Initialize VADER\n",
        "sia = SentimentIntensityAnalyzer()\n",
        "\n",
        "# Get sentiment scores\n",
        "def get_sentiment_label(text):\n",
        "    score = sia.polarity_scores(text)['compound']\n",
        "    if score >= 0.05:\n",
        "        return 'Positive'\n",
        "    elif score <= -0.05:\n",
        "        return 'Negative'\n",
        "    else:\n",
        "        return 'Neutral'\n",
        "\n",
        "df['Sentiment'] = df['Data'].apply(get_sentiment_label)\n",
        "\n",
        "# Check distribution\n",
        "print(df['Sentiment'].value_counts())\n"
      ],
      "metadata": {
        "colab": {
          "base_uri": "https://localhost:8080/"
        },
        "id": "RQXSqmwEjYRI",
        "outputId": "caf2e035-3588-448e-d158-a8077896c74c"
      },
      "execution_count": 64,
      "outputs": [
        {
          "output_type": "stream",
          "name": "stderr",
          "text": [
            "[nltk_data] Downloading package vader_lexicon to /root/nltk_data...\n",
            "[nltk_data]   Package vader_lexicon is already up-to-date!\n"
          ]
        },
        {
          "output_type": "stream",
          "name": "stdout",
          "text": [
            "Sentiment\n",
            "Positive    1334\n",
            "Negative     631\n",
            "Neutral       35\n",
            "Name: count, dtype: int64\n"
          ]
        }
      ]
    },
    {
      "cell_type": "code",
      "source": [
        "sentiment_by_category = df.groupby(['Labels', 'Sentiment']).size().unstack(fill_value=0)\n",
        "print(sentiment_by_category)\n",
        "\n",
        "# visualize\n",
        "import matplotlib.pyplot as plt\n",
        "\n",
        "sentiment_by_category.plot(kind='bar', stacked=True, figsize=(12,6))\n",
        "plt.ylabel(\"Number of Posts\")\n",
        "plt.title(\"Sentiment Distribution by Category\")\n",
        "plt.show()\n"
      ],
      "metadata": {
        "id": "suJ7yFH5jcRK",
        "outputId": "103ab402-9a2e-406a-c18f-a56fec6bde10",
        "colab": {
          "base_uri": "https://localhost:8080/",
          "height": 1000
        }
      },
      "execution_count": 65,
      "outputs": [
        {
          "output_type": "stream",
          "name": "stdout",
          "text": [
            "Sentiment                 Negative  Neutral  Positive\n",
            "Labels                                               \n",
            "alt.atheism                     42        1        57\n",
            "comp.graphics                   13        4        83\n",
            "comp.os.ms-windows.misc         24        2        74\n",
            "comp.sys.ibm.pc.hardware        21        0        79\n",
            "comp.sys.mac.hardware           24        3        73\n",
            "comp.windows.x                  20        2        78\n",
            "misc.forsale                     7        8        85\n",
            "rec.autos                       27        1        72\n",
            "rec.motorcycles                 30        2        68\n",
            "rec.sport.baseball              27        1        72\n",
            "rec.sport.hockey                28        1        71\n",
            "sci.crypt                       29        0        71\n",
            "sci.electronics                 18        4        78\n",
            "sci.med                         38        1        61\n",
            "sci.space                       32        3        65\n",
            "soc.religion.christian          29        0        71\n",
            "talk.politics.guns              67        2        31\n",
            "talk.politics.mideast           69        0        31\n",
            "talk.politics.misc              50        0        50\n",
            "talk.religion.misc              36        0        64\n"
          ]
        },
        {
          "output_type": "display_data",
          "data": {
            "text/plain": [
              "<Figure size 1200x600 with 1 Axes>"
            ],
            "image/png": "[encoded data removed]"
          },
          "metadata": {}
        }
      ]
    },
    {
      "cell_type": "markdown",
      "source": [
        "# **4. Evaluation**"
      ],
      "metadata": {
        "id": "qF7rwbUykq7q"
      }
    },
    {
      "cell_type": "code",
      "source": [
        "\n",
        "\n",
        "# Train/test split\n",
        "X_train, X_test, y_train, y_test = train_test_split(X, y, test_size=0.2, random_state=42)\n",
        "\n",
        "# Naive Bayes classifier\n",
        "nb = MultinomialNB()\n",
        "nb.fit(X_train, y_train)\n",
        "\n",
        "# Predictions\n",
        "y_pred = nb.predict(X_test)\n",
        "\n",
        "# Accuracy\n",
        "accuracy = accuracy_score(y_test, y_pred)\n",
        "print(f\"Accuracy: {accuracy:.4f}\")\n",
        "\n",
        "# Precision, Recall, F1 per class\n",
        "precision, recall, f1, _ = precision_recall_fscore_support(y_test, y_pred, average='weighted')\n",
        "print(f\"Precision: {precision:.4f}\")\n",
        "print(f\"Recall:    {recall:.4f}\")\n",
        "print(f\"F1-score:  {f1:.4f}\")\n",
        "\n",
        "# Detailed report per category\n",
        "print(\"\\nClassification Report:\\n\")\n",
        "print(classification_report(y_test, y_pred))\n",
        "\n"
      ],
      "metadata": {
        "colab": {
          "base_uri": "https://localhost:8080/"
        },
        "id": "mB5ECanpkrKK",
        "outputId": "b7e7a9ec-42de-4982-83cb-8d91fb0f4c63"
      },
      "execution_count": 66,
      "outputs": [
        {
          "output_type": "stream",
          "name": "stdout",
          "text": [
            "Accuracy: 0.7600\n",
            "Precision: 0.7772\n",
            "Recall:    0.7600\n",
            "F1-score:  0.7568\n",
            "\n",
            "Classification Report:\n",
            "\n",
            "                          precision    recall  f1-score   support\n",
            "\n",
            "             alt.atheism       0.45      0.72      0.55        18\n",
            "           comp.graphics       0.68      0.72      0.70        18\n",
            " comp.os.ms-windows.misc       0.71      0.77      0.74        22\n",
            "comp.sys.ibm.pc.hardware       0.79      0.60      0.68        25\n",
            "   comp.sys.mac.hardware       0.82      0.67      0.74        21\n",
            "          comp.windows.x       0.70      0.64      0.67        25\n",
            "            misc.forsale       0.68      0.72      0.70        18\n",
            "               rec.autos       0.83      0.83      0.83        18\n",
            "         rec.motorcycles       0.74      0.88      0.80        16\n",
            "      rec.sport.baseball       0.74      0.94      0.83        18\n",
            "        rec.sport.hockey       0.94      1.00      0.97        15\n",
            "               sci.crypt       0.86      1.00      0.93        19\n",
            "         sci.electronics       0.46      0.75      0.57        16\n",
            "                 sci.med       0.94      0.88      0.91        17\n",
            "               sci.space       1.00      0.76      0.86        21\n",
            "  soc.religion.christian       0.81      0.96      0.88        23\n",
            "      talk.politics.guns       0.91      0.71      0.80        28\n",
            "   talk.politics.mideast       0.95      0.90      0.92        20\n",
            "      talk.politics.misc       0.88      0.78      0.82        18\n",
            "      talk.religion.misc       0.60      0.25      0.35        24\n",
            "\n",
            "                accuracy                           0.76       400\n",
            "               macro avg       0.77      0.77      0.76       400\n",
            "            weighted avg       0.78      0.76      0.76       400\n",
            "\n"
          ]
        }
      ]
    },
    {
      "cell_type": "markdown",
      "source": [
        "# **Evaluation**\n",
        "Performance Summary\n",
        "Overall Accuracy: 76.00%\n",
        "\n",
        "Weighted Precision: 77.72%\n",
        "\n",
        "Weighted Recall: 76.00%\n",
        "\n",
        "Weighted F1-Score: 75.68%\n",
        "\n",
        "The model demonstrates balanced performance across most categories, with strong results in:\n",
        "\n",
        "rec.sport.hockey (F1 = 0.97)\n",
        "\n",
        "sci.crypt (F1 = 0.93)\n",
        "\n",
        "talk.politics.mideast (F1 = 0.92)\n",
        "\n",
        "sci.med (F1 = 0.91)\n",
        "\n",
        "However, there are a few weak spots:\n",
        "\n",
        "talk.religion.misc (F1 = 0.35, recall = 0.25)\n",
        "\n",
        "alt.atheism (F1 = 0.55, despite recall = 0.72 — meaning predictions were noisy)\n",
        "\n",
        "sci.electronics (F1 = 0.57, precision = 0.46)\n",
        "\n",
        "Challenges Identified\n",
        "Class imbalance: Some categories have fewer samples, reducing generalization power.\n",
        "\n",
        "Overlapping vocabulary: Topics like talk.religion.misc and alt.atheism share words, making classification harder.\n",
        "\n",
        "Residual noise: Posts contain metadata (headers, email paths) that may interfere with meaningful features.\n",
        "\n",
        "Sentiment Analysis Reflection\n",
        "From sentiment analysis (if performed with VADER or similar), we could see:\n",
        "\n",
        "Political categories (talk.politics.*) often lean toward negative or mixed sentiment, possibly due to debates and controversial topics.\n",
        "\n",
        "Sports-related categories (rec.sport.*) trend more positive, with high recall and F1, suggesting clearer and more topic-specific vocabulary.\n",
        "\n",
        "Religious categories show more neutral sentiment overall, but these classes had more misclassifications."
      ],
      "metadata": {
        "id": "c1IrFePvlAS_"
      }
    }
  ]
}