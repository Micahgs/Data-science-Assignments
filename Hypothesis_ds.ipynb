{
  "nbformat": 4,
  "nbformat_minor": 0,
  "metadata": {
    "colab": {
      "provenance": []
    },
    "kernelspec": {
      "name": "python3",
      "display_name": "Python 3"
    },
    "language_info": {
      "name": "python"
    }
  },
  "cells": [
    {
      "cell_type": "code",
      "execution_count": 4,
      "metadata": {
        "id": "kddwgolImgcg"
      },
      "outputs": [],
      "source": [
        "import math\n",
        "from scipy.stats import norm"
      ]
    },
    {
      "cell_type": "markdown",
      "source": [
        "# 1: State the Hypotheses"
      ],
      "metadata": {
        "id": "BV3nsQfAnKSx"
      }
    },
    {
      "cell_type": "markdown",
      "source": [
        "\n",
        "(\"Null Hypothesis (H0): The average weekly operating cost is Rs. 4,000 (as per the model).\")\n",
        "\n",
        "\"Alternative Hypothesis (H1): The average weekly operating cost is greater than Rs. 4,000 (i.e., costs have increased)"
      ],
      "metadata": {
        "id": "Z7KNs-lBnNqT"
      }
    },
    {
      "cell_type": "markdown",
      "source": [
        "# 2: Calculate the Test Statistic"
      ],
      "metadata": {
        "id": "pZXUirFonZQI"
      }
    },
    {
      "cell_type": "code",
      "source": [
        "X_mean = 600  # mean number of units produced\n",
        "sigma_X = 25  # standard deviation of units produced\n",
        "sample_mean = 3050  # sample mean cost observed\n",
        "n = 25  # sample size\n",
        "\n",
        "# Model predicted cost (μ) = 1000 + 5 * X_mean\n",
        "mu = 1000 + 5 * X_mean  # => 1000 + 5*600 = 4000\n",
        "\n",
        "# Standard deviation of cost (σ) = 5 * σ_X = 5 * 25 = 125\n",
        "sigma = 5 * sigma_X\n",
        "\n",
        "# Standard Error (SE) = σ / sqrt(n)\n",
        "SE = sigma / math.sqrt(n)\n",
        "\n",
        "# Test statistic (z-score)\n",
        "z = (sample_mean - mu) / SE\n",
        "\n",
        "print(\"Step 2: Test Statistic Calculation\")\n",
        "print(f\"Theoretical mean (μ): Rs. {mu}\")\n",
        "print(f\"Sample mean (x̄): Rs. {sample_mean}\")\n",
        "print(f\"Standard deviation (σ): Rs. {sigma}\")\n",
        "print(f\"Sample size (n): {n}\")\n",
        "print(f\"Standard Error (SE): {SE:.2f}\")\n",
        "print(f\"Test Statistic (Z): {z:.4f}\\n\")"
      ],
      "metadata": {
        "colab": {
          "base_uri": "https://localhost:8080/"
        },
        "id": "9hawNOdPnk0Y",
        "outputId": "5ffc5776-a242-4398-9e97-a49e34a33279"
      },
      "execution_count": 5,
      "outputs": [
        {
          "output_type": "stream",
          "name": "stdout",
          "text": [
            "Step 2: Test Statistic Calculation\n",
            "Theoretical mean (μ): Rs. 4000\n",
            "Sample mean (x̄): Rs. 3050\n",
            "Standard deviation (σ): Rs. 125\n",
            "Sample size (n): 25\n",
            "Standard Error (SE): 25.00\n",
            "Test Statistic (Z): -38.0000\n",
            "\n"
          ]
        }
      ]
    },
    {
      "cell_type": "markdown",
      "source": [
        "# 3: Determine the Critical Value"
      ],
      "metadata": {
        "id": "mqtvyQrmnzQw"
      }
    },
    {
      "cell_type": "code",
      "source": [
        "alpha = 0.05\n",
        "z_critical = norm.ppf(1 - alpha)\n",
        "\n",
        "print(\"Step 3: Critical Value\")\n",
        "print(f\"Significance Level (α): {alpha}\")\n",
        "print(f\"Z Critical Value for one-tailed test: {z_critical:.4f}\\n\")\n"
      ],
      "metadata": {
        "colab": {
          "base_uri": "https://localhost:8080/"
        },
        "id": "oxCusJ7wnwUo",
        "outputId": "7af18a6e-78f4-427e-f3c7-341f28ae2f10"
      },
      "execution_count": 6,
      "outputs": [
        {
          "output_type": "stream",
          "name": "stdout",
          "text": [
            "Step 3: Critical Value\n",
            "Significance Level (α): 0.05\n",
            "Z Critical Value for one-tailed test: 1.6449\n",
            "\n"
          ]
        }
      ]
    },
    {
      "cell_type": "markdown",
      "source": [
        "# 4: Make a Decision"
      ],
      "metadata": {
        "id": "w7eSNlSan5Ro"
      }
    },
    {
      "cell_type": "code",
      "source": [
        "if z > z_critical:\n",
        "    print(\"Test Statistic is greater than Critical Value.\")\n",
        "    print(\"Reject the null hypothesis.\\n\")\n",
        "else:\n",
        "    print(\"Test Statistic is NOT greater than Critical Value.\")\n",
        "    print(\"Fail to reject the null hypothesis.\\n\")"
      ],
      "metadata": {
        "colab": {
          "base_uri": "https://localhost:8080/"
        },
        "id": "Sf5azCDWn7a4",
        "outputId": "61b32897-6dc0-42ba-ec92-210907713788"
      },
      "execution_count": 7,
      "outputs": [
        {
          "output_type": "stream",
          "name": "stdout",
          "text": [
            "Test Statistic is NOT greater than Critical Value.\n",
            "Fail to reject the null hypothesis.\n",
            "\n"
          ]
        }
      ]
    },
    {
      "cell_type": "markdown",
      "source": [
        "# 5: Conclusion"
      ],
      "metadata": {
        "id": "98xuXBVVoFO4"
      }
    },
    {
      "cell_type": "code",
      "source": [],
      "metadata": {
        "id": "uDyAmg9WocQE"
      },
      "execution_count": null,
      "outputs": []
    },
    {
      "cell_type": "code",
      "source": [
        "if z > z_critical:\n",
        "    print(\"Conclusion: There is strong evidence to support the restaurant owners' claim that\")\n",
        "    print(\"the weekly operating costs are now higher than the model suggests.\")\n",
        "else:\n",
        "    print(\"Conclusion: There is not enough evidence to support the claim that the costs have increased.\")"
      ],
      "metadata": {
        "colab": {
          "base_uri": "https://localhost:8080/"
        },
        "id": "8yAqQ5AnoGHo",
        "outputId": "1a01f25a-9e13-4cc6-d9bb-8174754326fb"
      },
      "execution_count": 8,
      "outputs": [
        {
          "output_type": "stream",
          "name": "stdout",
          "text": [
            "Conclusion: There is not enough evidence to support the claim that the costs have increased.\n"
          ]
        }
      ]
    },
    {
      "cell_type": "markdown",
      "source": [
        "# There is not enough statistical evidence to support the restaurant owners' claim that the actual weekly operating costs have increased. The original cost model still appears valid for the given data."
      ],
      "metadata": {
        "id": "OXZLZQcon4-m"
      }
    }
  ]
}