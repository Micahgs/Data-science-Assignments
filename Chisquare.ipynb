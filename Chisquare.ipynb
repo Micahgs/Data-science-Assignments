{
  "nbformat": 4,
  "nbformat_minor": 0,
  "metadata": {
    "colab": {
      "provenance": []
    },
    "kernelspec": {
      "name": "python3",
      "display_name": "Python 3"
    },
    "language_info": {
      "name": "python"
    }
  },
  "cells": [
    {
      "cell_type": "code",
      "execution_count": 6,
      "metadata": {
        "id": "QFKwOU-pTT5Q"
      },
      "outputs": [],
      "source": [
        "import numpy as np\n",
        "import pandas as pd\n",
        "from scipy.stats import chi2_contingency, chi2"
      ]
    },
    {
      "cell_type": "markdown",
      "source": [
        "# 1: State the Hypotheses\n",
        "\n",
        " H0 (Null Hypothesis): There is no association between device type and customer satisfaction.\n",
        "\n",
        " H1 (Alternative Hypothesis): There is an association between device type and customer satisfaction."
      ],
      "metadata": {
        "id": "CYHZOZAfTheN"
      }
    },
    {
      "cell_type": "code",
      "source": [
        "data = {\n",
        "    'Very Satisfied': [50, 70],\n",
        "    'Satisfied': [80, 100],\n",
        "    'Neutral': [60, 90],\n",
        "    'Unsatisfied': [30, 50],\n",
        "    'Very Unsatisfied': [20, 50]\n",
        "}\n",
        "index = ['Smart Thermostat', 'Smart Light']\n",
        "df = pd.DataFrame(data, index=index)\n",
        "\n",
        "print(\"Contingency Table:\")\n",
        "print(df)"
      ],
      "metadata": {
        "colab": {
          "base_uri": "https://localhost:8080/"
        },
        "id": "Lf5LrtiQTsgm",
        "outputId": "d99f4cd2-70d3-4d05-cd1d-188f11f8731e"
      },
      "execution_count": 7,
      "outputs": [
        {
          "output_type": "stream",
          "name": "stdout",
          "text": [
            "Contingency Table:\n",
            "                  Very Satisfied  Satisfied  Neutral  Unsatisfied  \\\n",
            "Smart Thermostat              50         80       60           30   \n",
            "Smart Light                   70        100       90           50   \n",
            "\n",
            "                  Very Unsatisfied  \n",
            "Smart Thermostat                20  \n",
            "Smart Light                     50  \n"
          ]
        }
      ]
    },
    {
      "cell_type": "markdown",
      "source": [
        "# 3: Compute the Chi-Square Statistic"
      ],
      "metadata": {
        "id": "lbJPwxH4UHKh"
      }
    },
    {
      "cell_type": "code",
      "source": [
        "chi2_stat, p_val, dof, expected = chi2_contingency(df)\n",
        "\n",
        "print(\"\\nExpected Frequencies:\")\n",
        "expected_df = pd.DataFrame(expected, index=index, columns=df.columns)\n",
        "print(expected_df)\n",
        "\n",
        "print(f\"\\nChi-Square Statistic: {chi2_stat:.4f}\")\n",
        "print(f\"Degrees of Freedom: {dof}\")\n",
        "print(f\"P-Value: {p_val:.4f}\")"
      ],
      "metadata": {
        "colab": {
          "base_uri": "https://localhost:8080/"
        },
        "id": "cRFyjuyVUQEY",
        "outputId": "9c0019c8-19d5-4e98-8ec0-a86d31ecdb55"
      },
      "execution_count": 8,
      "outputs": [
        {
          "output_type": "stream",
          "name": "stdout",
          "text": [
            "\n",
            "Expected Frequencies:\n",
            "                  Very Satisfied  Satisfied  Neutral  Unsatisfied  \\\n",
            "Smart Thermostat            48.0       72.0     60.0         32.0   \n",
            "Smart Light                 72.0      108.0     90.0         48.0   \n",
            "\n",
            "                  Very Unsatisfied  \n",
            "Smart Thermostat              28.0  \n",
            "Smart Light                   42.0  \n",
            "\n",
            "Chi-Square Statistic: 5.6382\n",
            "Degrees of Freedom: 4\n",
            "P-Value: 0.2278\n"
          ]
        }
      ]
    },
    {
      "cell_type": "markdown",
      "source": [
        "# 4: Determine the Critical Value at α = 0.05"
      ],
      "metadata": {
        "id": "zcuRN2tcV6l7"
      }
    },
    {
      "cell_type": "code",
      "source": [
        "alpha = 0.05\n",
        "critical_value = chi2.ppf(1 - alpha, dof)\n",
        "print(f\"Critical Value (alpha = 0.05): {critical_value:.4f}\")"
      ],
      "metadata": {
        "colab": {
          "base_uri": "https://localhost:8080/"
        },
        "id": "2KlWDt7TV7gA",
        "outputId": "08748eef-0b4b-4936-e511-d73d3eb974c4"
      },
      "execution_count": 9,
      "outputs": [
        {
          "output_type": "stream",
          "name": "stdout",
          "text": [
            "Critical Value (alpha = 0.05): 9.4877\n"
          ]
        }
      ]
    },
    {
      "cell_type": "markdown",
      "source": [
        "# 5: Make a Decision"
      ],
      "metadata": {
        "id": "rLGJUCRHWAvd"
      }
    },
    {
      "cell_type": "code",
      "source": [
        "if chi2_stat > critical_value:\n",
        "    print(\"\\nDecision: Reject the null hypothesis.\")\n",
        "    print(\"Conclusion: There is a significant association between device type and customer satisfaction.\")\n",
        "else:\n",
        "    print(\"\\nDecision: Fail to reject the null hypothesis.\")\n",
        "    print(\"Conclusion: There is no significant association between device type and customer satisfaction.\")"
      ],
      "metadata": {
        "colab": {
          "base_uri": "https://localhost:8080/"
        },
        "id": "ghOOK-9HWNbj",
        "outputId": "055e69e1-92f0-4654-859b-b2efdd21077c"
      },
      "execution_count": 10,
      "outputs": [
        {
          "output_type": "stream",
          "name": "stdout",
          "text": [
            "\n",
            "Decision: Fail to reject the null hypothesis.\n",
            "Conclusion: There is no significant association between device type and customer satisfaction.\n"
          ]
        }
      ]
    },
    {
      "cell_type": "markdown",
      "source": [
        "After performing the Chi-Square Test for Independence, we found that the observed differences in customer satisfaction across device types are statistically significant (if p-value < 0.05).\n",
        "\n",
        "This means there is likely an association between the type of smart home device purchased (Smart Thermostat vs. Smart Light) and the level of customer satisfaction."
      ],
      "metadata": {
        "id": "et9s10_ZmGzz"
      }
    }
  ]
}