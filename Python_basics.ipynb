{
  "nbformat": 4,
  "nbformat_minor": 0,
  "metadata": {
    "colab": {
      "provenance": []
    },
    "kernelspec": {
      "name": "python3",
      "display_name": "Python 3"
    },
    "language_info": {
      "name": "python"
    }
  },
  "cells": [
    {
      "cell_type": "markdown",
      "source": [
        "# Python Basics"
      ],
      "metadata": {
        "id": "T1rYHcuB2Pnj"
      }
    },
    {
      "cell_type": "markdown",
      "source": [
        "# Exercise 1: Prime Numbers"
      ],
      "metadata": {
        "id": "DQgouqsR4vKB"
      }
    },
    {
      "cell_type": "code",
      "source": [
        "def is_prime(n):\n",
        "    if n <= 1:\n",
        "        print(f\"{n} is not a prime number. (Prime numbers are greater than 1)\")\n",
        "        return False\n",
        "\n",
        "    for i in range(2, n):\n",
        "        if n % i == 0:\n",
        "            print(f\"{n} is not a prime number because it is divisible by {i}.\")\n",
        "            return False\n",
        "\n",
        "    print(f\"{n} is a prime number.\")\n",
        "    return True\n",
        "\n",
        "\n"
      ],
      "metadata": {
        "id": "DStM5Z6C4k6l"
      },
      "execution_count": 2,
      "outputs": []
    },
    {
      "cell_type": "code",
      "source": [
        "num = int(input(\"Enter a number: \"))\n",
        "is_prime(num)"
      ],
      "metadata": {
        "colab": {
          "base_uri": "https://localhost:8080/"
        },
        "id": "8yYjsDGK4iJA",
        "outputId": "b0f496e6-419a-4393-cf50-860081ff6943"
      },
      "execution_count": 3,
      "outputs": [
        {
          "output_type": "stream",
          "name": "stdout",
          "text": [
            "Enter a number: 23\n",
            "23 is a prime number.\n"
          ]
        },
        {
          "output_type": "execute_result",
          "data": {
            "text/plain": [
              "True"
            ]
          },
          "metadata": {},
          "execution_count": 3
        }
      ]
    },
    {
      "cell_type": "markdown",
      "source": [
        "# Exercise 2: Product of Random Numbers"
      ],
      "metadata": {
        "id": "_E5WugC55KWI"
      }
    },
    {
      "cell_type": "code",
      "source": [
        "import random\n",
        "\n",
        "num1 = random.randint(1, 10)\n",
        "num2 = random.randint(1, 10)\n",
        "\n",
        "print(\"What is the product of\", num1, \"and\", num2, \"?\")\n",
        "user_answer = int(input(\"Enter your answer: \"))\n",
        "\n",
        "correct_answer = num1 * num2\n",
        "\n",
        "if user_answer == correct_answer:\n",
        "    print(\"Correct! Well done.\")\n",
        "else:\n",
        "    print(\"Wrong. The correct answer is\", correct_answer)\n"
      ],
      "metadata": {
        "colab": {
          "base_uri": "https://localhost:8080/"
        },
        "id": "ny1gDGOo5MgR",
        "outputId": "3246d1fd-8dfe-4221-f78a-8e0ffae67bf8"
      },
      "execution_count": 4,
      "outputs": [
        {
          "output_type": "stream",
          "name": "stdout",
          "text": [
            "What is the product of 1 and 2 ?\n",
            "Enter your answer: 3\n",
            "Wrong. The correct answer is 2\n"
          ]
        }
      ]
    },
    {
      "cell_type": "markdown",
      "source": [
        "# Exercise 3: Squares of Even/Odd Numbers"
      ],
      "metadata": {
        "id": "d24KeHSC5dbm"
      }
    },
    {
      "cell_type": "code",
      "source": [
        "# for evene no\n",
        "for i in range(100, 201):\n",
        "    if i % 2 == 0:\n",
        "        print(f\"{i}*2 = {i ** 2}\")\n"
      ],
      "metadata": {
        "colab": {
          "base_uri": "https://localhost:8080/"
        },
        "id": "9W-ZesQx5fbb",
        "outputId": "1439d829-0fbd-4bf1-aca2-4ce7fce9ee9f"
      },
      "execution_count": 5,
      "outputs": [
        {
          "output_type": "stream",
          "name": "stdout",
          "text": [
            "100*2 = 10000\n",
            "102*2 = 10404\n",
            "104*2 = 10816\n",
            "106*2 = 11236\n",
            "108*2 = 11664\n",
            "110*2 = 12100\n",
            "112*2 = 12544\n",
            "114*2 = 12996\n",
            "116*2 = 13456\n",
            "118*2 = 13924\n",
            "120*2 = 14400\n",
            "122*2 = 14884\n",
            "124*2 = 15376\n",
            "126*2 = 15876\n",
            "128*2 = 16384\n",
            "130*2 = 16900\n",
            "132*2 = 17424\n",
            "134*2 = 17956\n",
            "136*2 = 18496\n",
            "138*2 = 19044\n",
            "140*2 = 19600\n",
            "142*2 = 20164\n",
            "144*2 = 20736\n",
            "146*2 = 21316\n",
            "148*2 = 21904\n",
            "150*2 = 22500\n",
            "152*2 = 23104\n",
            "154*2 = 23716\n",
            "156*2 = 24336\n",
            "158*2 = 24964\n",
            "160*2 = 25600\n",
            "162*2 = 26244\n",
            "164*2 = 26896\n",
            "166*2 = 27556\n",
            "168*2 = 28224\n",
            "170*2 = 28900\n",
            "172*2 = 29584\n",
            "174*2 = 30276\n",
            "176*2 = 30976\n",
            "178*2 = 31684\n",
            "180*2 = 32400\n",
            "182*2 = 33124\n",
            "184*2 = 33856\n",
            "186*2 = 34596\n",
            "188*2 = 35344\n",
            "190*2 = 36100\n",
            "192*2 = 36864\n",
            "194*2 = 37636\n",
            "196*2 = 38416\n",
            "198*2 = 39204\n",
            "200*2 = 40000\n"
          ]
        }
      ]
    },
    {
      "cell_type": "markdown",
      "source": [
        "# Exercise 4: Word counter"
      ],
      "metadata": {
        "id": "D-iOZgYwF110"
      }
    },
    {
      "cell_type": "code",
      "source": [
        "input_text = \"This is a sample text. This text will be used to demonstrate the word counter.\"\n",
        "\n",
        "words = input_text.split()\n",
        "word_count = {}\n",
        "\n",
        "for word in words:\n",
        "    if word in word_count:\n",
        "        word_count[word] += 1\n",
        "    else:\n",
        "        word_count[word] = 1\n",
        "\n",
        "for word, count in word_count.items():\n",
        "    print(f\"'{word}': {count}\")\n"
      ],
      "metadata": {
        "colab": {
          "base_uri": "https://localhost:8080/"
        },
        "id": "rLJZh74AGxIw",
        "outputId": "280fbeeb-f6db-4b5d-c064-6a5ef398cbfb"
      },
      "execution_count": 7,
      "outputs": [
        {
          "output_type": "stream",
          "name": "stdout",
          "text": [
            "'This': 2\n",
            "'is': 1\n",
            "'a': 1\n",
            "'sample': 1\n",
            "'text.': 1\n",
            "'text': 1\n",
            "'will': 1\n",
            "'be': 1\n",
            "'used': 1\n",
            "'to': 1\n",
            "'demonstrate': 1\n",
            "'the': 1\n",
            "'word': 1\n",
            "'counter.': 1\n"
          ]
        }
      ]
    },
    {
      "cell_type": "markdown",
      "source": [
        "# Exercise 5: Check for Palindrome"
      ],
      "metadata": {
        "id": "1qDGQRPWRPSY"
      }
    },
    {
      "cell_type": "code",
      "source": [
        "def is_palindrome(text):\n",
        "    if text == text[::-1]:\n",
        "        print(\"It is a palindrome\")\n",
        "    else:\n",
        "        print(\"It is not a palindrome\")\n",
        "\n",
        "# Example usage\n",
        "is_palindrome(\"racecar\")  # It is a palindrome\n",
        "is_palindrome(\"hello\")    # It is not a palindrome\n"
      ],
      "metadata": {
        "colab": {
          "base_uri": "https://localhost:8080/"
        },
        "id": "u0FL0H-ZGxur",
        "outputId": "6be3b825-3ab5-4447-d7fe-a42dd77f2f06"
      },
      "execution_count": 9,
      "outputs": [
        {
          "output_type": "stream",
          "name": "stdout",
          "text": [
            "It is a palindrome\n",
            "It is not a palindrome\n"
          ]
        }
      ]
    }
  ]
}